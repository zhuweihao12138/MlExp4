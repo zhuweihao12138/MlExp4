{
 "cells": [
  {
   "cell_type": "code",
   "metadata": {
    "ExecuteTime": {
     "end_time": "2024-11-01T10:37:20.709726Z",
     "start_time": "2024-11-01T10:37:17.916732Z"
    }
   },
   "source": [
    "from __future__ import unicode_literals, print_function, division\n",
    "from io import open\n",
    "import unicodedata\n",
    "import string\n",
    "import re\n",
    "import random\n",
    "\n",
    "import torch\n",
    "import torch.nn as nn\n",
    "from torch import optim\n",
    "import torch.nn.functional as F\n",
    "\n",
    "import numpy as np\n",
    "import jupyter\n",
    "import matplotlib\n",
    "import matplotlib.pyplot as plt\n",
    "import nltk\n",
    "from nltk.translate.bleu_score import sentence_bleu\n",
    "device = torch.device(\"cuda\" if torch.cuda.is_available() else \"cpu\")\n",
    "device"
   ],
   "outputs": [
    {
     "data": {
      "text/plain": [
       "device(type='cuda')"
      ]
     },
     "execution_count": 1,
     "metadata": {},
     "output_type": "execute_result"
    }
   ],
   "execution_count": 1
  },
  {
   "cell_type": "code",
   "metadata": {
    "ExecuteTime": {
     "end_time": "2024-11-01T10:37:20.727414Z",
     "start_time": "2024-11-01T10:37:20.712335Z"
    }
   },
   "source": [
    "SOS_token = 0\n",
    "EOS_token = 1\n",
    "\n",
    "\n",
    "class Lang:\n",
    "    def __init__(self, name):\n",
    "        self.name = name\n",
    "        self.word2index = {}\n",
    "        self.word2count = {}\n",
    "        self.index2word = {0: \"SOS\", 1: \"EOS\"}\n",
    "        self.n_words = 2  # Count SOS and EOS\n",
    "\n",
    "    def addSentence(self, sentence):\n",
    "        for word in sentence.split(' '):\n",
    "            self.addWord(word)\n",
    "\n",
    "    def addWord(self, word):\n",
    "        if word not in self.word2index:\n",
    "            self.word2index[word] = self.n_words\n",
    "            self.word2count[word] = 1\n",
    "            self.index2word[self.n_words] = word\n",
    "            self.n_words += 1\n",
    "        else:\n",
    "            self.word2count[word] += 1"
   ],
   "outputs": [],
   "execution_count": 2
  },
  {
   "cell_type": "code",
   "metadata": {
    "ExecuteTime": {
     "end_time": "2024-11-01T10:37:20.743048Z",
     "start_time": "2024-11-01T10:37:20.727414Z"
    }
   },
   "source": [
    "def unicodeToAscii(s):\n",
    "    return ''.join(\n",
    "    c for c in unicodedata.normalize('NFD', s)\n",
    "    if unicodedata.category(c) != 'Mn'\n",
    "    )\n",
    "\n",
    "\n",
    "# 其中normalizeString函数中的正则表达式需对应更改，否则会将中文单词替换成空格\n",
    "def normalizeString(s):\n",
    "    #变成小写，去掉前后空格\n",
    "    s = s.lower().strip()\n",
    "    if ' ' not in s:\n",
    "        s = list(s)\n",
    "        s = ' '.join(s)\n",
    "    s = unicodeToAscii(s)  #将unicode变成ascii\n",
    "    s = re.sub(r\"([.。!！?？])\", \"\", s)\n",
    "    return s\n"
   ],
   "outputs": [],
   "execution_count": 3
  },
  {
   "cell_type": "code",
   "metadata": {
    "ExecuteTime": {
     "end_time": "2024-11-01T10:37:20.758668Z",
     "start_time": "2024-11-01T10:37:20.743048Z"
    }
   },
   "source": [
    "def readLangs(lang1, lang2, reverse=False):\n",
    "    print(\"Reading lines...\")\n",
    "\n",
    "    # Read the file and split into lines\n",
    "    file_path = \"./data/eng-cmn.txt\"\n",
    "    with open(file_path, encoding='utf-8') as file:\n",
    "        lines = file.readlines()\n",
    "    \n",
    "\n",
    "    # Split every line into pairs and normalize\n",
    "    pairs = [[normalizeString(s) for s in l.split('\\t')[:2]] for l in lines]\n",
    "\n",
    "\n",
    "    # Reverse pairs, make Lang instances\n",
    "    if reverse:\n",
    "        pairs = [list(reversed(p)) for p in pairs]\n",
    "        input_lang = Lang(lang2)\n",
    "        output_lang = Lang(lang1)\n",
    "    else:\n",
    "        input_lang = Lang(lang1)\n",
    "        output_lang = Lang(lang2)\n",
    "\n",
    "    return input_lang, output_lang, pairs"
   ],
   "outputs": [],
   "execution_count": 4
  },
  {
   "cell_type": "code",
   "metadata": {
    "ExecuteTime": {
     "end_time": "2024-11-01T10:37:20.774291Z",
     "start_time": "2024-11-01T10:37:20.758668Z"
    }
   },
   "source": [
    "MAX_LENGTH = 10\n",
    "\n",
    "eng_prefixes = (\n",
    "    \"i am \", \"i m \",\n",
    "    \"he is\", \"he s \",\n",
    "    \"she is\", \"she s \",\n",
    "    \"you are\", \"you re \",\n",
    "    \"we are\", \"we re \",\n",
    "    \"they are\", \"they re \"\n",
    ")\n",
    "\n",
    "\n",
    "def filterPair(p):\n",
    "    return len(p[0].split(' ')) < MAX_LENGTH and \\\n",
    "        len(p[1].split(' ')) < MAX_LENGTH and \\\n",
    "        p[1].startswith(eng_prefixes)\n",
    "\n",
    "\n",
    "def filterPairs(pairs):\n",
    "    return [pair for pair in pairs if filterPair(pair)]"
   ],
   "outputs": [],
   "execution_count": 5
  },
  {
   "cell_type": "code",
   "metadata": {
    "ExecuteTime": {
     "end_time": "2024-11-01T10:37:20.789922Z",
     "start_time": "2024-11-01T10:37:20.774291Z"
    }
   },
   "source": [
    "def prepareData(lang1, lang2, reverse=False):\n",
    "    input_lang, output_lang, pairs = readLangs(lang1, lang2, reverse)\n",
    "    print(\"Read %s sentence pairs\" % len(pairs))\n",
    "    pairs = filterPairs(pairs)\n",
    "    print(\"Trimmed to %s sentence pairs\" % len(pairs))\n",
    "    print(\"Counting words...\")\n",
    "    for pair in pairs:\n",
    "        input_lang.addSentence(pair[0])\n",
    "        output_lang.addSentence(pair[1])\n",
    "    print(\"Counted words:\")\n",
    "    print(input_lang.name, input_lang.n_words)\n",
    "    print(output_lang.name, output_lang.n_words)\n",
    "    return input_lang, output_lang, pairs\n",
    "\n"
   ],
   "outputs": [],
   "execution_count": 6
  },
  {
   "cell_type": "code",
   "metadata": {
    "ExecuteTime": {
     "end_time": "2024-11-01T10:37:21.163283Z",
     "start_time": "2024-11-01T10:37:20.789922Z"
    }
   },
   "source": [
    "input_lang, output_lang, pairs = prepareData('eng', 'cmn', True)\n",
    "print(random.choice(pairs))\n"
   ],
   "outputs": [
    {
     "name": "stdout",
     "output_type": "stream",
     "text": [
      "Reading lines...\n",
      "Read 24026 sentence pairs\n",
      "Trimmed to 459 sentence pairs\n",
      "Counting words...\n",
      "Counted words:\n",
      "cmn 684\n",
      "eng 560\n",
      "['他 是 个 棒 球 手 ', 'he is a baseball player']\n"
     ]
    }
   ],
   "execution_count": 7
  },
  {
   "cell_type": "code",
   "metadata": {
    "ExecuteTime": {
     "end_time": "2024-11-01T10:37:21.178966Z",
     "start_time": "2024-11-01T10:37:21.163283Z"
    }
   },
   "source": [
    "'''file_path = \"./data/eng-cmn.txt\"\n",
    "with open(file_path, encoding='utf-8') as file:\n",
    "    lines = file.readlines()\n",
    "pairs = [[normalizeString(l).split('\\t')[:2]] for l in lines]\n",
    "cn = []\n",
    "eng = []\n",
    "for p in pairs:\n",
    "    p=np.array(p)\n",
    "    eng.append([p[0,0]])\n",
    "    cn.append([p[0,1]])'''"
   ],
   "outputs": [
    {
     "data": {
      "text/plain": [
       "'file_path = \"./data/eng-cmn.txt\"\\nwith open(file_path, encoding=\\'utf-8\\') as file:\\n    lines = file.readlines()\\npairs = [[normalizeString(l).split(\\'\\t\\')[:2]] for l in lines]\\ncn = []\\neng = []\\nfor p in pairs:\\n    p=np.array(p)\\n    eng.append([p[0,0]])\\n    cn.append([p[0,1]])'"
      ]
     },
     "execution_count": 8,
     "metadata": {},
     "output_type": "execute_result"
    }
   ],
   "execution_count": 8
  },
  {
   "cell_type": "markdown",
   "metadata": {},
   "source": [
    "# The Encoder"
   ]
  },
  {
   "cell_type": "code",
   "metadata": {
    "ExecuteTime": {
     "end_time": "2024-11-01T10:37:21.194593Z",
     "start_time": "2024-11-01T10:37:21.178966Z"
    }
   },
   "source": [
    "class EncoderRNN(nn.Module):\n",
    "    def __init__(self, input_size, hidden_size):\n",
    "        super(EncoderRNN, self).__init__()\n",
    "        self.hidden_size = hidden_size\n",
    "\n",
    "        self.embedding = nn.Embedding(input_size, hidden_size)\n",
    "        self.gru = nn.GRU(hidden_size, hidden_size)\n",
    "\n",
    "    def forward(self, input, hidden):\n",
    "        embedded = self.embedding(input).view(1, 1, -1)\n",
    "        output = embedded\n",
    "        output, hidden = self.gru(output, hidden)\n",
    "        return output, hidden\n",
    "\n",
    "    def initHidden(self):\n",
    "        return torch.zeros(1, 1, self.hidden_size, device=device)"
   ],
   "outputs": [],
   "execution_count": 9
  },
  {
   "cell_type": "markdown",
   "metadata": {},
   "source": [
    "# Attention Decoder"
   ]
  },
  {
   "cell_type": "code",
   "metadata": {
    "ExecuteTime": {
     "end_time": "2024-11-01T10:37:21.210218Z",
     "start_time": "2024-11-01T10:37:21.194593Z"
    }
   },
   "source": [
    "class AttnDecoderRNN(nn.Module):\n",
    "    def __init__(self, hidden_size, output_size, dropout_p=0.1, max_length=MAX_LENGTH):\n",
    "        super(AttnDecoderRNN, self).__init__()\n",
    "        self.hidden_size = hidden_size\n",
    "        self.output_size = output_size\n",
    "        self.dropout_p = dropout_p\n",
    "        self.max_length = max_length\n",
    "\n",
    "        self.embedding = nn.Embedding(self.output_size, self.hidden_size)\n",
    "        self.attn = nn.Linear(self.hidden_size * 2, self.max_length)\n",
    "        self.attn_combine = nn.Linear(self.hidden_size * 2, self.hidden_size)\n",
    "        self.dropout = nn.Dropout(self.dropout_p)\n",
    "        self.gru = nn.GRU(self.hidden_size, self.hidden_size)\n",
    "        self.out = nn.Linear(self.hidden_size, self.output_size)\n",
    "\n",
    "    def forward(self, input, hidden, encoder_outputs):\n",
    "        embedded = self.embedding(input).view(1, 1, -1)\n",
    "        embedded = self.dropout(embedded)\n",
    "\n",
    "        attn_weights = F.softmax(\n",
    "            self.attn(torch.cat((embedded[0], hidden[0]), 1)), dim=1)\n",
    "        attn_applied = torch.bmm(attn_weights.unsqueeze(0),\n",
    "                                 encoder_outputs.unsqueeze(0))\n",
    "\n",
    "        output = torch.cat((embedded[0], attn_applied[0]), 1)\n",
    "        output = self.attn_combine(output).unsqueeze(0)\n",
    "\n",
    "        output = F.relu(output)\n",
    "        output, hidden = self.gru(output, hidden)\n",
    "\n",
    "        output = F.log_softmax(self.out(output[0]), dim=1)\n",
    "        return output, hidden, attn_weights\n",
    "\n",
    "    def initHidden(self):\n",
    "        return torch.zeros(1, 1, self.hidden_size, device=device)"
   ],
   "outputs": [],
   "execution_count": 10
  },
  {
   "cell_type": "markdown",
   "metadata": {},
   "source": [
    "# Preparing Training Data"
   ]
  },
  {
   "cell_type": "code",
   "metadata": {
    "ExecuteTime": {
     "end_time": "2024-11-01T10:37:21.225840Z",
     "start_time": "2024-11-01T10:37:21.210218Z"
    }
   },
   "source": [
    "def indexesFromSentence(lang, sentence):\n",
    "    return [lang.word2index[word] for word in sentence.split(' ')]\n",
    "\n",
    "\n",
    "def tensorFromSentence(lang, sentence):\n",
    "    indexes = indexesFromSentence(lang, sentence)\n",
    "    indexes.append(EOS_token)\n",
    "    return torch.tensor(indexes, dtype=torch.long, device=device).view(-1, 1)\n",
    "\n",
    "\n",
    "def tensorsFromPair(pair):\n",
    "    input_tensor = tensorFromSentence(input_lang, pair[0])\n",
    "    target_tensor = tensorFromSentence(output_lang, pair[1])\n",
    "    return (input_tensor, target_tensor)"
   ],
   "outputs": [],
   "execution_count": 11
  },
  {
   "cell_type": "markdown",
   "metadata": {},
   "source": [
    "# Training the model"
   ]
  },
  {
   "cell_type": "code",
   "metadata": {
    "ExecuteTime": {
     "end_time": "2024-11-01T10:37:21.241464Z",
     "start_time": "2024-11-01T10:37:21.225840Z"
    }
   },
   "source": [
    "teacher_forcing_ratio = 0.5\n",
    "\n",
    "\n",
    "def train(input_tensor, target_tensor, encoder, decoder, encoder_optimizer, decoder_optimizer, criterion, max_length=MAX_LENGTH):\n",
    "    encoder_hidden = encoder.initHidden()\n",
    "\n",
    "    encoder_optimizer.zero_grad()\n",
    "    decoder_optimizer.zero_grad()\n",
    "\n",
    "    input_length = input_tensor.size(0)\n",
    "    target_length = target_tensor.size(0)\n",
    "\n",
    "    encoder_outputs = torch.zeros(max_length, encoder.hidden_size, device=device)\n",
    "\n",
    "    loss = 0\n",
    "\n",
    "    for ei in range(input_length):\n",
    "        encoder_output, encoder_hidden = encoder(\n",
    "            input_tensor[ei], encoder_hidden)\n",
    "        encoder_outputs[ei] = encoder_output[0, 0]\n",
    "\n",
    "    decoder_input = torch.tensor([[SOS_token]], device=device)\n",
    "\n",
    "    decoder_hidden = encoder_hidden\n",
    "\n",
    "    use_teacher_forcing = True if random.random() < teacher_forcing_ratio else False\n",
    "\n",
    "    if use_teacher_forcing:\n",
    "        # Teacher forcing: Feed the target as the next input\n",
    "        for di in range(target_length):\n",
    "            decoder_output, decoder_hidden, decoder_attention = decoder(\n",
    "                decoder_input, decoder_hidden, encoder_outputs)\n",
    "            loss += criterion(decoder_output, target_tensor[di])\n",
    "            decoder_input = target_tensor[di]  # Teacher forcing\n",
    "\n",
    "    else:\n",
    "        # Without teacher forcing: use its own predictions as the next input\n",
    "        for di in range(target_length):\n",
    "            decoder_output, decoder_hidden, decoder_attention = decoder(\n",
    "                decoder_input, decoder_hidden, encoder_outputs)\n",
    "            topv, topi = decoder_output.topk(1)\n",
    "            decoder_input = topi.squeeze().detach()  # detach from history as input\n",
    "\n",
    "            loss += criterion(decoder_output, target_tensor[di])\n",
    "            if decoder_input.item() == EOS_token:\n",
    "                break\n",
    "\n",
    "    loss.backward()\n",
    "\n",
    "    encoder_optimizer.step()\n",
    "    decoder_optimizer.step()\n",
    "\n",
    "    return loss.item() / target_length"
   ],
   "outputs": [],
   "execution_count": 12
  },
  {
   "cell_type": "code",
   "metadata": {
    "ExecuteTime": {
     "end_time": "2024-11-01T10:37:21.257091Z",
     "start_time": "2024-11-01T10:37:21.241464Z"
    }
   },
   "source": [
    "#This is a helper function to print time elapsed and estimated time remaining given the current time and progress %.\n",
    "\n",
    "import time\n",
    "import math\n",
    "\n",
    "\n",
    "def asMinutes(s):\n",
    "    m = math.floor(s / 60)\n",
    "    s -= m * 60\n",
    "    return '%dm %ds' % (m, s)\n",
    "\n",
    "\n",
    "def timeSince(since, percent):\n",
    "    now = time.time()\n",
    "    s = now - since\n",
    "    es = s / (percent)\n",
    "    rs = es - s\n",
    "    return '%s (- %s)' % (asMinutes(s), asMinutes(rs))"
   ],
   "outputs": [],
   "execution_count": 13
  },
  {
   "metadata": {
    "ExecuteTime": {
     "end_time": "2024-11-01T10:37:24.462497Z",
     "start_time": "2024-11-01T10:37:21.257091Z"
    }
   },
   "cell_type": "code",
   "source": [
    "# jetML平台配置\n",
    "\n",
    "from pzmllog import NewLogger\n",
    "\n",
    "learning_rate = 0.01\n",
    "epoch = 1\n",
    "batch_size = 1\n",
    "\n",
    "\n",
    "log = NewLogger(\n",
    "    config={\n",
    "        #用户 ID\n",
    "        'access_token':\"your token\",\n",
    "        #项目 ID\n",
    "        'project':\"1392\",\n",
    "        #实验描述和说明信息\n",
    "        \"description\":\"test\",\n",
    "        #自定义实验名称\n",
    "        \"experiment_name\":\"TEST\",\n",
    "        #仓库 ID\n",
    "        \"repository_id\":\"your rep id\",\n",
    "        # tomcat的启动端口\n",
    "        'port': \"5560\"\n",
    "    },\n",
    "    #超参数集\n",
    "    info = {\n",
    "        \"learning_rate\": learning_rate,\n",
    "        \"epoch\": epoch,\n",
    "        \"batch_size\": batch_size\n",
    "    }\n",
    ")"
   ],
   "outputs": [],
   "execution_count": 14
  },
  {
   "cell_type": "code",
   "metadata": {
    "ExecuteTime": {
     "end_time": "2024-11-01T10:37:24.478114Z",
     "start_time": "2024-11-01T10:37:24.462497Z"
    }
   },
   "source": [
    "def trainIters(encoder, decoder, n_iters, print_every=1000, plot_every=100, learning_rate=0.01):\n",
    "    start = time.time()\n",
    "    plot_losses = []\n",
    "    print_loss_total = 0  # Reset every print_every\n",
    "    plot_loss_total = 0  # Reset every plot_every\n",
    "\n",
    "    encoder_optimizer = optim.SGD(encoder.parameters(), lr=learning_rate)\n",
    "    decoder_optimizer = optim.SGD(decoder.parameters(), lr=learning_rate)\n",
    "    training_pairs = [tensorsFromPair(random.choice(pairs))\n",
    "                      for i in range(n_iters)]\n",
    "    criterion = nn.NLLLoss()\n",
    "\n",
    "    for iter in range(1, n_iters + 1):\n",
    "        training_pair = training_pairs[iter - 1]\n",
    "        input_tensor = training_pair[0]\n",
    "        target_tensor = training_pair[1]\n",
    "\n",
    "        loss = train(input_tensor, target_tensor, encoder,\n",
    "                     decoder, encoder_optimizer, decoder_optimizer, criterion)\n",
    "        print_loss_total += loss\n",
    "        plot_loss_total += loss\n",
    "        \n",
    "        # log.Log({\"epoch\":epoch,\"loss\":loss,\"accuracy\":accuracy})\n",
    "        log.Log({\"epoch\":epoch,\"loss\":loss})\n",
    "\n",
    "        if iter % print_every == 0:\n",
    "            print_loss_avg = print_loss_total / print_every\n",
    "            print_loss_total = 0\n",
    "            print('%s (%d %d%%) %.4f' % (timeSince(start, iter / n_iters),\n",
    "                                         iter, iter / n_iters * 100, print_loss_avg))\n",
    "\n",
    "        if iter % plot_every == 0:\n",
    "            plot_loss_avg = plot_loss_total / plot_every\n",
    "            plot_losses.append(plot_loss_avg)\n",
    "            plot_loss_total = 0\n",
    "\n",
    "    showPlot(plot_losses)\n"
   ],
   "outputs": [],
   "execution_count": 15
  },
  {
   "cell_type": "markdown",
   "metadata": {},
   "source": [
    "# Plotting results"
   ]
  },
  {
   "cell_type": "code",
   "metadata": {
    "ExecuteTime": {
     "end_time": "2024-11-01T10:37:24.493743Z",
     "start_time": "2024-11-01T10:37:24.478114Z"
    }
   },
   "source": [
    "import matplotlib.pyplot as plt\n",
    "import matplotlib.ticker as ticker\n",
    "import numpy as np\n",
    "\n",
    "\n",
    "def showPlot(points):\n",
    "    plt.figure()\n",
    "    fig, ax = plt.subplots()\n",
    "    # this locator puts ticks at regular intervals\n",
    "    loc = ticker.MultipleLocator(base=0.2)\n",
    "    ax.yaxis.set_major_locator(loc)\n",
    "    plt.plot(points)\n",
    "    plt.show()"
   ],
   "outputs": [],
   "execution_count": 16
  },
  {
   "cell_type": "markdown",
   "metadata": {
    "ExecuteTime": {
     "end_time": "2020-11-10T01:58:52.080280Z",
     "start_time": "2020-11-10T01:58:52.072221Z"
    }
   },
   "source": [
    "# Evaluation"
   ]
  },
  {
   "cell_type": "code",
   "metadata": {
    "ExecuteTime": {
     "end_time": "2024-11-01T10:37:24.509360Z",
     "start_time": "2024-11-01T10:37:24.493743Z"
    }
   },
   "source": [
    "def evaluate(encoder, decoder, sentence, max_length=MAX_LENGTH):\n",
    "    with torch.no_grad():\n",
    "        input_tensor = tensorFromSentence(input_lang, sentence)\n",
    "        input_length = input_tensor.size()[0]\n",
    "        encoder_hidden = encoder.initHidden()\n",
    "\n",
    "        encoder_outputs = torch.zeros(max_length, encoder.hidden_size, device=device)\n",
    "\n",
    "        for ei in range(input_length):\n",
    "            encoder_output, encoder_hidden = encoder(input_tensor[ei],\n",
    "                                                     encoder_hidden)\n",
    "            encoder_outputs[ei] += encoder_output[0, 0]\n",
    "\n",
    "        decoder_input = torch.tensor([[SOS_token]], device=device)  # SOS\n",
    "\n",
    "        decoder_hidden = encoder_hidden\n",
    "\n",
    "        decoded_words = []\n",
    "        decoder_attentions = torch.zeros(max_length, max_length)\n",
    "\n",
    "        for di in range(max_length):\n",
    "            decoder_output, decoder_hidden, decoder_attention = decoder(\n",
    "                decoder_input, decoder_hidden, encoder_outputs)\n",
    "            decoder_attentions[di] = decoder_attention.data\n",
    "            topv, topi = decoder_output.data.topk(1)\n",
    "            if topi.item() == EOS_token:\n",
    "                decoded_words.append('<EOS>')\n",
    "                break\n",
    "            else:\n",
    "                decoded_words.append(output_lang.index2word[topi.item()])\n",
    "\n",
    "            decoder_input = topi.squeeze().detach()\n",
    "\n",
    "        return decoded_words, decoder_attentions[:di + 1]"
   ],
   "outputs": [],
   "execution_count": 17
  },
  {
   "cell_type": "code",
   "metadata": {
    "ExecuteTime": {
     "end_time": "2024-11-01T10:37:24.524989Z",
     "start_time": "2024-11-01T10:37:24.509360Z"
    }
   },
   "source": [
    "def evaluateRandomly(encoder, decoder, n=100):\n",
    "    sum_scores = 0\n",
    "    for i in range(n):\n",
    "        pair = random.choice(pairs)\n",
    "        print('>', pair[0])\n",
    "        print('=', pair[1])\n",
    "        output_words, attentions = evaluate(encoder, decoder, pair[0])\n",
    "        output_sentence = ' '.join(output_words)\n",
    "        print('<', output_sentence)\n",
    "        print('')\n",
    "        w = []\n",
    "        words = pair[1].strip(' ').split(' ')\n",
    "        words.append('<EOS>')\n",
    "        w.append(words)\n",
    "        bleu_score = sentence_bleu(w, output_words)\n",
    "        sum_scores += bleu_score\n",
    "    print('The bleu_score is ', sum_scores/n)"
   ],
   "outputs": [],
   "execution_count": 18
  },
  {
   "cell_type": "markdown",
   "metadata": {},
   "source": [
    "# Training and Evaluating"
   ]
  },
  {
   "cell_type": "code",
   "metadata": {
    "ExecuteTime": {
     "end_time": "2024-11-01T10:51:51.568017Z",
     "start_time": "2024-11-01T10:37:39.727073Z"
    }
   },
   "source": [
    "hidden_size = 256\n",
    "\n",
    "encoder1 = EncoderRNN(input_lang.n_words, hidden_size).to(device)\n",
    "attn_decoder1 = AttnDecoderRNN(hidden_size, output_lang.n_words, dropout_p=0.1).to(device)\n",
    "\n",
    "log.Run()\n",
    "# trainIters(encoder1, attn_decoder1, 75000, print_every=5000)\n",
    "# trainIters(encoder1, attn_decoder1, 1000, print_every=100, learning_rate=learning_rate)\n",
    "trainIters(encoder1, attn_decoder1, 75000, print_every=5000, learning_rate=learning_rate)\n",
    "log.End()\n",
    "\n",
    "# 结束整个过程,提交实验结果\n",
    "log.Submit()"
   ],
   "outputs": [
    {
     "name": "stdout",
     "output_type": "stream",
     "text": [
      "0m 58s (- 13m 43s) (5000 6%) 2.3143\n",
      "1m 55s (- 12m 28s) (10000 13%) 0.5733\n",
      "2m 48s (- 11m 14s) (15000 20%) 0.0889\n",
      "3m 45s (- 10m 20s) (20000 26%) 0.0582\n",
      "4m 46s (- 9m 33s) (25000 33%) 0.0408\n",
      "5m 45s (- 8m 38s) (30000 40%) 0.0367\n",
      "6m 39s (- 7m 36s) (35000 46%) 0.0371\n",
      "7m 35s (- 6m 38s) (40000 53%) 0.0370\n",
      "8m 28s (- 5m 38s) (45000 60%) 0.0305\n",
      "9m 25s (- 4m 42s) (50000 66%) 0.0318\n",
      "10m 25s (- 3m 47s) (55000 73%) 0.0354\n",
      "11m 24s (- 2m 51s) (60000 80%) 0.0332\n",
      "12m 18s (- 1m 53s) (65000 86%) 0.0341\n",
      "13m 16s (- 0m 56s) (70000 93%) 0.0299\n",
      "14m 10s (- 0m 0s) (75000 100%) 0.0281\n"
     ]
    },
    {
     "data": {
      "text/plain": [
       "<Figure size 640x480 with 0 Axes>"
      ]
     },
     "metadata": {},
     "output_type": "display_data"
    },
    {
     "data": {
      "text/plain": [
       "<Figure size 640x480 with 1 Axes>"
      ],
      "image/png": "[encoded data removed]"
     },
     "metadata": {},
     "output_type": "display_data"
    }
   ],
   "execution_count": 19
  },
  {
   "cell_type": "code",
   "metadata": {
    "scrolled": true,
    "ExecuteTime": {
     "end_time": "2024-11-01T10:51:52.094481Z",
     "start_time": "2024-11-01T10:51:51.568017Z"
    }
   },
   "source": [
    "evaluateRandomly(encoder1, attn_decoder1)"
   ],
   "outputs": [
    {
     "name": "stdout",
     "output_type": "stream",
     "text": [
      "> 他 们 正 向 森 林 而 去 \n",
      "= they are making for the forest\n",
      "< they are making for the forest <EOS>\n",
      "\n",
      "> 他 在 看 电 视 \n",
      "= he is watching tv\n",
      "< he is watching tv <EOS>\n",
      "\n",
      "> 你 是 我 最 好 的 朋 友 \n",
      "= you are my best friend\n",
      "< you are my best friend <EOS>\n",
      "\n",
      "> 她 錢 不 夠 \n",
      "= she is hard up for money\n",
      "< she is hard up for money <EOS>\n",
      "\n",
      "> 她 在 节 食 \n",
      "= she is dieting\n",
      "< she is dieting <EOS>\n",
      "\n",
      "> 我 在 車 站 附 近 \n",
      "= i am near the station\n",
      "< i am near the station <EOS>\n",
      "\n",
      "> 失 败 的 责 任 在 他 \n",
      "= he is to blame for the failure\n",
      "< he is to blame for the failure <EOS>\n",
      "\n",
      "> 我 怕 狗 \n",
      "= i am afraid of dogs\n",
      "< i am afraid of dogs <EOS>\n",
      "\n",
      "> 我 最 近 很 忙 \n",
      "= i am very busy these days\n",
      "< i am very busy these days <EOS>\n",
      "\n",
      "> 你 擋 住 了 我 的 路 \n",
      "= you are in my way\n",
      "< you are in my way <EOS>\n",
      "\n",
      "> 他 是 个 胆 小 鬼 \n",
      "= he is afraid of his own shadow\n",
      "< he is afraid of his own shadow <EOS>\n",
      "\n",
      "> 她 在 找 她 的 車 鑰 匙 \n",
      "= she is looking for her car keys\n",
      "< she is looking for her car keys <EOS>\n",
      "\n",
      "> 他 不 可 能 成 功 \n",
      "= he is not likely to succeed\n",
      "< he is not likely to succeed <EOS>\n",
      "\n",
      "> 他 非 常 吝 啬 \n",
      "= he is very stingy with his money\n",
      "< he is very stingy with his money <EOS>\n",
      "\n",
      "> 他 不 是 來 自 北 海 道 \n",
      "= he is not from hokkaido\n",
      "< he is not from hokkaido <EOS>\n",
      "\n",
      "> 她 缺 乏 常 识 \n",
      "= she is lacking in common sense\n",
      "< she is lacking in common sense <EOS>\n",
      "\n",
      "> 我 生 病 了 \n",
      "= i am sick\n",
      "< i am sick <EOS>\n",
      "\n",
      "> 我 對 音 樂 有 興 趣 \n",
      "= i am interested in music\n",
      "< i am interested in music <EOS>\n",
      "\n",
      "> 他 現 在 在 倫 敦 洽 公 \n",
      "= he is in london on business now\n",
      "< he is in london on business now <EOS>\n",
      "\n",
      "> 我 们 待 在 舅 舅 家 \n",
      "= we are staying at our uncle's\n",
      "< we are staying at our uncle's <EOS>\n",
      "\n",
      "> 他 很 高 \n",
      "= he is very tall\n",
      "< he is very tall <EOS>\n",
      "\n",
      "> 我 相 信 他 是 無 辜 的 \n",
      "= i am convinced that he is innocent\n",
      "< i am convinced that he is innocent <EOS>\n",
      "\n",
      "> 他 是 个 钓 鱼 专 家 \n",
      "= he is an expert at fishing\n",
      "< he is an expert at fishing <EOS>\n",
      "\n",
      "> 她 正 在 給 嬰 兒 洗 澡 \n",
      "= she is giving the baby a bath\n",
      "< she is giving the baby a bath <EOS>\n",
      "\n",
      "> 他 在 她 的 旁 邊 \n",
      "= he is at her side\n",
      "< he is at her side <EOS>\n",
      "\n",
      "> 我 對 音 樂 有 興 趣 \n",
      "= i am interested in music\n",
      "< i am interested in music <EOS>\n",
      "\n",
      "> 他 不 關 心 錢 \n",
      "= he is careless about money\n",
      "< he is careless about money <EOS>\n",
      "\n",
      "> 他 还 在 这 儿 \n",
      "= he is still here\n",
      "< he is still here <EOS>\n",
      "\n",
      "> 她 精 通 法 語 \n",
      "= she is proficient in french\n",
      "< she is proficient in french <EOS>\n",
      "\n",
      "> 我 很 抱 歉 打 擾 你 了 \n",
      "= i am sorry to trouble you\n",
      "< i am sorry to trouble you <EOS>\n",
      "\n",
      "> 他 是 教 师 \n",
      "= he is a teacher\n",
      "< he is a teacher <EOS>\n",
      "\n",
      "> 我 生 病 了 \n",
      "= i am sick\n",
      "< i am sick <EOS>\n",
      "\n",
      "> 我 明 年 要 去 夏 威 夷 \n",
      "= i am going to hawaii next year\n",
      "< i am going to hawaii next year <EOS>\n",
      "\n",
      "> 他 一 點 一 點 地 變 好 \n",
      "= he is getting better bit by bit\n",
      "< he is getting better bit by bit <EOS>\n",
      "\n",
      "> 我 现 在 3 0 岁 了 \n",
      "= i am 30 years old now\n",
      "< i am 30 years old now <EOS>\n",
      "\n",
      "> 我 现 在 在 打 排 球 \n",
      "= i am playing volleyball now\n",
      "< i am playing volleyball now <EOS>\n",
      "\n",
      "> 我 下 個 星 期 離 開 \n",
      "= i am leaving next week\n",
      "< i am leaving next week <EOS>\n",
      "\n",
      "> 他 很 擅 長 橄 欖 球 \n",
      "= he is good at rugby\n",
      "< he is good at rugby <EOS>\n",
      "\n",
      "> 她 總 是 一 身 黑 \n",
      "= she is always dressed in black\n",
      "< she is always dressed in black <EOS>\n",
      "\n",
      "> 她 今 晚 舉 行 派 對 \n",
      "= she is giving a party tonight\n",
      "< she is giving a party tonight <EOS>\n",
      "\n",
      "> 他 們 在 看 一 部 電 影 \n",
      "= they are watching a movie\n",
      "< they are watching a movie <EOS>\n",
      "\n",
      "> 她 现 在 正 在 工 作 \n",
      "= she is at work right now\n",
      "< she is at work right now <EOS>\n",
      "\n",
      "> 我 指 望 你 了 \n",
      "= i am counting on you\n",
      "< i am counting on you <EOS>\n",
      "\n",
      "> 他 是 一 個 友 善 的 人 \n",
      "= he is a friendly person\n",
      "< he is a friendly person <EOS>\n",
      "\n",
      "> 我 期 待 她 的 來 信 \n",
      "= i am expecting a letter from her\n",
      "< i am expecting a letter from her <EOS>\n",
      "\n",
      "> 她 不 怕 死 \n",
      "= she isn't afraid of death\n",
      "< she isn't afraid of death <EOS>\n",
      "\n",
      "> 我 为 我 父 亲 而 自 豪 \n",
      "= i am proud of my father\n",
      "< i am proud of my father <EOS>\n",
      "\n",
      "> 我 的 右 眼 瞎 了 \n",
      "= i am blind in the right eye\n",
      "< i am blind in the right eye <EOS>\n",
      "\n",
      "> 我 在 修 洗 衣 機 \n",
      "= i am repairing the washing machine\n",
      "< i am repairing the washing machine <EOS>\n",
      "\n",
      "> 他 今 天 沒 上 學 \n",
      "= he is absent from school today\n",
      "< he is absent from school today <EOS>\n",
      "\n",
      "> 他 是 个 好 脾 气 的 人 \n",
      "= he is an agreeable person\n",
      "< he is a pleasant person <EOS>\n",
      "\n",
      "> 你 是 教 授 \n",
      "= you are a professor\n",
      "< you are a professor <EOS>\n",
      "\n",
      "> 他 全 速 驾 驶 着 \n",
      "= he is driving at top speed\n",
      "< he is driving at top speed <EOS>\n",
      "\n",
      "> 我 迷 失 了 \n",
      "= i am lost\n",
      "< i am lost <EOS>\n",
      "\n",
      "> 你 是 學 生 \n",
      "= you are a student\n",
      "< you are a student <EOS>\n",
      "\n",
      "> 他 是 我 父 親 \n",
      "= he is my father\n",
      "< he is my father <EOS>\n",
      "\n",
      "> 你 不 怕 鬼 ， 不 是 麼 \n",
      "= you aren't afraid of ghosts, are you\n",
      "< you aren't afraid of ghosts, are you <EOS>\n",
      "\n",
      "> 我 們 明 天 要 離 開 \n",
      "= we are going to leave tomorrow\n",
      "< we are going to leave tomorrow <EOS>\n",
      "\n",
      "> 我 在 下 一 站 下 车 \n",
      "= i am getting off at the next station\n",
      "< i am getting off at the next station <EOS>\n",
      "\n",
      "> 她 擅 長 說 英 語 \n",
      "= she is good at speaking english\n",
      "< she is good at speaking english <EOS>\n",
      "\n",
      "> 他 今 晚 会 来 我 家 \n",
      "= he is to come to my house tonight\n",
      "< he is to come to my house tonight <EOS>\n",
      "\n",
      "> 他 們 比 我 們 高 得 多 \n",
      "= they are much taller than us\n",
      "< they are much taller than us <EOS>\n",
      "\n",
      "> 他 擅 長 應 付 小 孩 子 \n",
      "= he is good at dealing with children\n",
      "< he is good at dealing with children <EOS>\n",
      "\n",
      "> 我 很 抱 歉 打 擾 你 了 \n",
      "= i am sorry to trouble you\n",
      "< i am sorry to trouble you <EOS>\n",
      "\n",
      "> 她 不 總 是 高 興 \n",
      "= she is not always happy\n",
      "< she is not always happy <EOS>\n",
      "\n",
      "> 他 不 能 买 车 \n",
      "= he isn't able to buy a car\n",
      "< he isn't able to buy a car <EOS>\n",
      "\n",
      "> 我 怕 死 \n",
      "= i am afraid of dying\n",
      "< i am afraid of dying <EOS>\n",
      "\n",
      "> 他是一个 dj \n",
      "= he is a dj\n",
      "< he is a dj <EOS>\n",
      "\n",
      "> 你 很 好 \n",
      "= you are good\n",
      "< you are good <EOS>\n",
      "\n",
      "> 我 们 国 家 不 缺 石 油 \n",
      "= we are not short of oil in this country\n",
      "< we are not short of oil in this country <EOS>\n",
      "\n",
      "> 他 在 看 电 视 \n",
      "= he is watching tv\n",
      "< he is watching tv <EOS>\n",
      "\n",
      "> 她 是 我 女 儿 \n",
      "= she is my daughter\n",
      "< she is my daughter <EOS>\n",
      "\n",
      "> 我 家 有 5 口 人 \n",
      "= we are a family of five\n",
      "< we are a family of five <EOS>\n",
      "\n",
      "> 我 为 我 父 亲 而 自 豪 \n",
      "= i am proud of my father\n",
      "< i am proud of my father <EOS>\n",
      "\n",
      "> 他 很 難 對 付 \n",
      "= he is hard to deal with\n",
      "< he is hard to deal with <EOS>\n",
      "\n",
      "> 她 就 是 所 谓 的 书 虫 \n",
      "= she is what we call a bookworm\n",
      "< she is what we call a bookworm <EOS>\n",
      "\n",
      "> 你 是 我 最 好 的 朋 友 \n",
      "= you are my best friend\n",
      "< you are my best friend <EOS>\n",
      "\n",
      "> 他 今 晚 会 来 我 家 \n",
      "= he is to come to my house tonight\n",
      "< he is to come to my house tonight <EOS>\n",
      "\n",
      "> 他 们 年 龄 相 仿 \n",
      "= they are about the same age\n",
      "< they are about the same age <EOS>\n",
      "\n",
      "> 我 不 擅 長 畫 畫 \n",
      "= i am poor at drawing\n",
      "< i am poor at drawing <EOS>\n",
      "\n",
      "> 他 們 正 在 聊 天 \n",
      "= they are having a chat\n",
      "< they are having a chat <EOS>\n",
      "\n",
      "> 他 害 怕 蛇 \n",
      "= he is afraid of snakes\n",
      "< he is afraid of snakes <EOS>\n",
      "\n",
      "> 他 總 是 忘 記 事 情 \n",
      "= he is always forgetting things\n"
     ]
    },
    {
     "name": "stderr",
     "output_type": "stream",
     "text": [
      "F:\\miniconda3\\envs\\jetML\\lib\\site-packages\\nltk\\translate\\bleu_score.py:577: UserWarning: \n",
      "The hypothesis contains 0 counts of 3-gram overlaps.\n",
      "Therefore the BLEU score evaluates to 0, independently of\n",
      "how many N-gram overlaps of lower order it contains.\n",
      "Consider using lower n-gram order or use SmoothingFunction()\n",
      "  warnings.warn(_msg)\n",
      "F:\\miniconda3\\envs\\jetML\\lib\\site-packages\\nltk\\translate\\bleu_score.py:577: UserWarning: \n",
      "The hypothesis contains 0 counts of 4-gram overlaps.\n",
      "Therefore the BLEU score evaluates to 0, independently of\n",
      "how many N-gram overlaps of lower order it contains.\n",
      "Consider using lower n-gram order or use SmoothingFunction()\n",
      "  warnings.warn(_msg)\n"
     ]
    },
    {
     "name": "stdout",
     "output_type": "stream",
     "text": [
      "< he is always forgetting things <EOS>\n",
      "\n",
      "> 我 们 待 在 舅 舅 家 \n",
      "= we are staying at our uncle's\n",
      "< we are staying at our uncle's <EOS>\n",
      "\n",
      "> 他 非 常 怕 他 的 母 親 \n",
      "= he is very afraid of his mother\n",
      "< he is very afraid of his mother <EOS>\n",
      "\n",
      "> 你 隨 時 可 以 回 家 \n",
      "= you are free to go home\n",
      "< you are free to go home <EOS>\n",
      "\n",
      "> 他 垒 球 打 得 很 好 \n",
      "= he is good at baseball\n",
      "< he is good at baseball <EOS>\n",
      "\n",
      "> 我 家 有 5 口 人 \n",
      "= we are a family of five\n",
      "< we are a family of five <EOS>\n",
      "\n",
      "> 他 非 常 生 气 \n",
      "= he is very angry\n",
      "< he is very angry <EOS>\n",
      "\n",
      "> 他 精 通 波 斯 语 \n",
      "= he is proficient in farsi\n",
      "< he is proficient in farsi <EOS>\n",
      "\n",
      "> 它 们 是 瓜 \n",
      "= they are melons\n",
      "< they are melons <EOS>\n",
      "\n",
      "> 他 將 競 選 市 長 \n",
      "= he is going to run for mayor\n",
      "< he is going to run for mayor <EOS>\n",
      "\n",
      "> 他 會 彈 吉 他 \n",
      "= he is able to play the guitar\n",
      "< he is able to play the guitar <EOS>\n",
      "\n",
      "> 他 對 室 內 灰 塵 過 敏 \n",
      "= he is allergic to house dust\n",
      "< he is allergic to house dust <EOS>\n",
      "\n",
      "> 他 武 装 到 牙 齒 \n",
      "= he is armed to the teeth\n",
      "< he is armed to the teeth <EOS>\n",
      "\n",
      "> 我 厌 倦 了 我 的 工 作 \n",
      "= i am tired of my work\n",
      "< i am tired of my work <EOS>\n",
      "\n",
      "> 他 们 年 龄 相 仿 \n",
      "= they are about the same age\n",
      "< they are about the same age <EOS>\n",
      "\n",
      "> 我 對 音 樂 有 興 趣 \n",
      "= i am interested in music\n",
      "< i am interested in music <EOS>\n",
      "\n",
      "> 我 對 音 樂 有 興 趣 \n",
      "= i am interested in music\n",
      "< i am interested in music <EOS>\n",
      "\n",
      "> 她 陶 醉 在 幸 福 裡 \n",
      "= she is drunk with happiness\n",
      "< she is drunk with happiness <EOS>\n",
      "\n",
      "The bleu_score is  0.99\n"
     ]
    }
   ],
   "execution_count": 20
  },
  {
   "cell_type": "code",
   "metadata": {
    "ExecuteTime": {
     "end_time": "2024-11-01T10:51:52.110176Z",
     "start_time": "2024-11-01T10:51:52.094481Z"
    }
   },
   "source": [
    "plt.rcParams['font.sans-serif'] = ['KaiTi'] # 指定默认字体\n",
    "plt.rcParams['axes.unicode_minus'] = False # 解决保存图像是负号'-'显示为方块的问题"
   ],
   "outputs": [],
   "execution_count": 21
  },
  {
   "cell_type": "code",
   "metadata": {
    "ExecuteTime": {
     "end_time": "2024-11-01T10:51:52.251197Z",
     "start_time": "2024-11-01T10:51:52.110497Z"
    }
   },
   "source": [
    "output_words, attentions = evaluate(\n",
    "    encoder1, attn_decoder1, \"你 只 是 玩\")\n",
    "print(output_words)\n",
    "plt.matshow(attentions.numpy())\n",
    "plt.show()"
   ],
   "outputs": [
    {
     "name": "stdout",
     "output_type": "stream",
     "text": [
      "['you', 'are', 'not', 'a', '<EOS>']\n"
     ]
    },
    {
     "data": {
      "text/plain": [
       "<Figure size 960x480 with 1 Axes>"
      ],
      "image/png": "[encoded data removed]"
     },
     "metadata": {},
     "output_type": "display_data"
    }
   ],
   "execution_count": 22
  },
  {
   "cell_type": "code",
   "metadata": {
    "scrolled": false,
    "ExecuteTime": {
     "end_time": "2024-11-01T10:51:52.716117Z",
     "start_time": "2024-11-01T10:51:52.251197Z"
    }
   },
   "source": [
    "def showAttention(input_sentence, output_words, attentions):\n",
    "    # Set up figure with colorbar\n",
    "    fig = plt.figure()\n",
    "    ax = fig.add_subplot(111)\n",
    "    cax = ax.matshow(attentions.numpy(), cmap='bone')\n",
    "    fig.colorbar(cax)\n",
    "\n",
    "    # Set up axes\n",
    "    ax.set_xticklabels([''] + input_sentence.split(' ') +\n",
    "                       ['<EOS>'], rotation=90)\n",
    "    ax.set_yticklabels([''] + output_words)\n",
    "\n",
    "    # Show label at every tick\n",
    "    ax.xaxis.set_major_locator(ticker.MultipleLocator(1))\n",
    "    ax.yaxis.set_major_locator(ticker.MultipleLocator(1))\n",
    "\n",
    "    plt.show()\n",
    "\n",
    "\n",
    "def evaluateAndShowAttention(input_sentence):\n",
    "    output_words, attentions = evaluate(\n",
    "        encoder1, attn_decoder1, input_sentence)\n",
    "    print('input =', input_sentence)\n",
    "    print('output =', ' '.join(output_words))\n",
    "    showAttention(input_sentence, output_words, attentions)\n",
    "\n",
    "\n",
    "evaluateAndShowAttention(\"他 和 他 的 邻 居 相 处 \")\n",
    "\n",
    "evaluateAndShowAttention(\"我 肯 定 他 会 成 功 的 \")\n",
    "\n",
    "evaluateAndShowAttention(\"他 總 是 忘 記 事 情\")\n",
    "\n",
    "evaluateAndShowAttention(\"我 们 非 常 需 要 食 物 \")"
   ],
   "outputs": [
    {
     "name": "stdout",
     "output_type": "stream",
     "text": [
      "input = 他 和 他 的 邻 居 相 处 \n",
      "output = he is getting along with his neighborhood <EOS>\n"
     ]
    },
    {
     "name": "stderr",
     "output_type": "stream",
     "text": [
      "C:\\Users\\linhx\\AppData\\Local\\Temp\\ipykernel_484\\3446654828.py:9: UserWarning: set_ticklabels() should only be used with a fixed number of ticks, i.e. after set_ticks() or using a FixedLocator.\n",
      "  ax.set_xticklabels([''] + input_sentence.split(' ') +\n",
      "C:\\Users\\linhx\\AppData\\Local\\Temp\\ipykernel_484\\3446654828.py:11: UserWarning: set_ticklabels() should only be used with a fixed number of ticks, i.e. after set_ticks() or using a FixedLocator.\n",
      "  ax.set_yticklabels([''] + output_words)\n"
     ]
    },
    {
     "data": {
      "text/plain": [
       "<Figure size 640x480 with 2 Axes>"
      ],
      "image/png": "[encoded data removed]"
     },
     "metadata": {},
     "output_type": "display_data"
    },
    {
     "name": "stdout",
     "output_type": "stream",
     "text": [
      "input = 我 肯 定 他 会 成 功 的 \n",
      "output = i am sure of his success <EOS>\n"
     ]
    },
    {
     "name": "stderr",
     "output_type": "stream",
     "text": [
      "C:\\Users\\linhx\\AppData\\Local\\Temp\\ipykernel_484\\3446654828.py:9: UserWarning: set_ticklabels() should only be used with a fixed number of ticks, i.e. after set_ticks() or using a FixedLocator.\n",
      "  ax.set_xticklabels([''] + input_sentence.split(' ') +\n",
      "C:\\Users\\linhx\\AppData\\Local\\Temp\\ipykernel_484\\3446654828.py:11: UserWarning: set_ticklabels() should only be used with a fixed number of ticks, i.e. after set_ticks() or using a FixedLocator.\n",
      "  ax.set_yticklabels([''] + output_words)\n"
     ]
    },
    {
     "data": {
      "text/plain": [
       "<Figure size 640x480 with 2 Axes>"
      ],
      "image/png": "[encoded data removed]"
     },
     "metadata": {},
     "output_type": "display_data"
    },
    {
     "name": "stdout",
     "output_type": "stream",
     "text": [
      "input = 他 總 是 忘 記 事 情\n",
      "output = he is always forgetting things <EOS>\n"
     ]
    },
    {
     "name": "stderr",
     "output_type": "stream",
     "text": [
      "C:\\Users\\linhx\\AppData\\Local\\Temp\\ipykernel_484\\3446654828.py:9: UserWarning: set_ticklabels() should only be used with a fixed number of ticks, i.e. after set_ticks() or using a FixedLocator.\n",
      "  ax.set_xticklabels([''] + input_sentence.split(' ') +\n",
      "C:\\Users\\linhx\\AppData\\Local\\Temp\\ipykernel_484\\3446654828.py:11: UserWarning: set_ticklabels() should only be used with a fixed number of ticks, i.e. after set_ticks() or using a FixedLocator.\n",
      "  ax.set_yticklabels([''] + output_words)\n"
     ]
    },
    {
     "data": {
      "text/plain": [
       "<Figure size 640x480 with 2 Axes>"
      ],
      "image/png": "[encoded data removed]"
     },
     "metadata": {},
     "output_type": "display_data"
    },
    {
     "name": "stderr",
     "output_type": "stream",
     "text": [
      "C:\\Users\\linhx\\AppData\\Local\\Temp\\ipykernel_484\\3446654828.py:9: UserWarning: set_ticklabels() should only be used with a fixed number of ticks, i.e. after set_ticks() or using a FixedLocator.\n",
      "  ax.set_xticklabels([''] + input_sentence.split(' ') +\n",
      "C:\\Users\\linhx\\AppData\\Local\\Temp\\ipykernel_484\\3446654828.py:11: UserWarning: set_ticklabels() should only be used with a fixed number of ticks, i.e. after set_ticks() or using a FixedLocator.\n",
      "  ax.set_yticklabels([''] + output_words)\n"
     ]
    },
    {
     "name": "stdout",
     "output_type": "stream",
     "text": [
      "input = 我 们 非 常 需 要 食 物 \n",
      "output = we are badly in need of food <EOS>\n"
     ]
    },
    {
     "data": {
      "text/plain": [
       "<Figure size 640x480 with 2 Axes>"
      ],
      "image/png": "[encoded data removed]"
     },
     "metadata": {},
     "output_type": "display_data"
    }
   ],
   "execution_count": 23
  }
 ],
 "metadata": {
  "kernelspec": {
   "display_name": "Python 3 (ipykernel)",
   "language": "python",
   "name": "python3"
  },
  "language_info": {
   "codemirror_mode": {
    "name": "ipython",
    "version": 3
   },
   "file_extension": ".py",
   "mimetype": "text/x-python",
   "name": "python",
   "nbconvert_exporter": "python",
   "pygments_lexer": "ipython3",
   "version": "3.9.12"
  },
  "varInspector": {
   "cols": {
    "lenName": 16,
    "lenType": 16,
    "lenVar": 40
   },
   "kernels_config": {
    "python": {
     "delete_cmd_postfix": "",
     "delete_cmd_prefix": "del ",
     "library": "var_list.py",
     "varRefreshCmd": "print(var_dic_list())"
    },
    "r": {
     "delete_cmd_postfix": ") ",
     "delete_cmd_prefix": "rm(",
     "library": "var_list.r",
     "varRefreshCmd": "cat(var_dic_list()) "
    }
   },
   "types_to_exclude": [
    "module",
    "function",
    "builtin_function_or_method",
    "instance",
    "_Feature"
   ],
   "window_display": false
  }
 },
 "nbformat": 4,
 "nbformat_minor": 4
}
